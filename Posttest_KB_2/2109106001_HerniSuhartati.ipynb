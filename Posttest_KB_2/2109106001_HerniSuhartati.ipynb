{
 "cells": [
  {
   "cell_type": "markdown",
   "id": "d096bf9a-eaa4-46b5-9359-6266d83b02da",
   "metadata": {},
   "source": [
    "# POSTTEST 2 EDA & DATASET\n",
    "\n",
    "Nama : Herni Suhartati <br>\n",
    "NIM : 2109106001 <br>\n",
    "Kelas : A1 Informatika 2021 <br>\n",
    "\n",
    "### Chocolate Bars Dataset"
   ]
  },
  {
   "cell_type": "markdown",
   "id": "13609675-2c09-4ac9-a838-a412f86bf4b1",
   "metadata": {},
   "source": [
    "Import library pandas untuk menganalisis data dan prettytable untuk membuat tabel"
   ]
  },
  {
   "cell_type": "code",
   "execution_count": 138,
   "id": "cf7c68ee-fe35-4445-8934-ba199eec8270",
   "metadata": {},
   "outputs": [
    {
     "name": "stdout",
     "output_type": "stream",
     "text": [
      "<class 'pandas.core.frame.DataFrame'>\n",
      "RangeIndex: 2530 entries, 0 to 2529\n",
      "Data columns (total 11 columns):\n",
      " #   Column            Non-Null Count  Dtype  \n",
      "---  ------            --------------  -----  \n",
      " 0   id                2530 non-null   int64  \n",
      " 1   manufacturer      2530 non-null   object \n",
      " 2   company_location  2530 non-null   object \n",
      " 3   year_reviewed     2530 non-null   int64  \n",
      " 4   bean_origin       2530 non-null   object \n",
      " 5   bar_name          2530 non-null   object \n",
      " 6   cocoa_percent     2530 non-null   float64\n",
      " 7   num_ingredients   2443 non-null   float64\n",
      " 8   ingredients       2443 non-null   object \n",
      " 9   review            2530 non-null   object \n",
      " 10  rating            2530 non-null   float64\n",
      "dtypes: float64(3), int64(2), object(6)\n",
      "memory usage: 217.5+ KB\n"
     ]
    }
   ],
   "source": [
    "import pandas as pd\n",
    "from prettytable import PrettyTable\n",
    "\n",
    "df = pd.read_csv(\"chocolate_bars.csv\")\n",
    "df.info()"
   ]
  },
  {
   "cell_type": "markdown",
   "id": "a9ede775-f84e-45a2-aa27-eec618b8e3af",
   "metadata": {},
   "source": [
    "## KETENTUAN POINT 1 & 2\n",
    "\n",
    "Mendapatkan informasi dari jumlah record, nama attribute, jumlah attribute dengan tipe objek, jumlah attribute dengan tipe angka, jumlah attribute yang memiliki nilai null dan memasukkan informasi tersebut ke dalam **dictionary**.\n",
    "\n",
    "**Solusi:**\n",
    "- Jumlah record : `df.shape[]` untuk mengembalikan total kolom dan total baris, untuk mengambil jumlah baris gunakan indeks 0.\n",
    "- Nama atribute : `df.columns.values` untuk mengembalikan array berupa nama-nama atribute.\n",
    "- Jumlah atribute dengan tipe objek: `df.select_dtypes(['object'])` untuk mengambil nilai baris dengan kolom dengan tipe data objek\n",
    "- Jumlah atribute dengan tipe angka: `df.select_dtypes(['float64', 'int64'])` untuk mengambil nilai baris dengan kolom dengan tipe data angka\n",
    "- Jumlah atribute null: `df.loc[:, df.isnull().any()]` mengembalikan list kolom dan value boolean tentang apakah ada data yang kosong atau tidak"
   ]
  },
  {
   "cell_type": "code",
   "execution_count": 139,
   "id": "e44d16c9-2eb9-4a74-a8c3-c01b4db52e0c",
   "metadata": {},
   "outputs": [],
   "source": [
    "coklat_bar = {\n",
    "  'total_records': 0,\n",
    "  'nama_atribute': [],\n",
    "  'objek_atribute': 0,\n",
    "  'angka_atribute': 0,\n",
    "  'null_atribute': 0}\n",
    "\n",
    "coklat_bar['total_records'] = df.shape[0]\n",
    "coklat_bar['nama_atribute'] = list(df.columns.values)\n",
    "coklat_bar['objek_atribute'] = list(df.select_dtypes(['object']))\n",
    "coklat_bar['angka_atribute'] = list(df.select_dtypes(['float64', 'int64']))\n",
    "coklat_bar['null_atribute'] = list(df.loc[:, df.isnull().any()])"
   ]
  },
  {
   "cell_type": "code",
   "execution_count": 140,
   "id": "776f5be6-4dca-4714-9057-3661be53bd79",
   "metadata": {},
   "outputs": [
    {
     "name": "stdout",
     "output_type": "stream",
     "text": [
      "+-----------------------+---------------------------------------------------------------------------------------------------------------------------------------+--------+\n",
      "| Jenis Informasi       | Nama Attribut                                                                                                                         | Jumlah |\n",
      "+-----------------------+---------------------------------------------------------------------------------------------------------------------------------------+--------+\n",
      "| Jumlah Record         | -                                                                                                                                     | 2530   |\n",
      "| Nama Attribut         | id, manufacturer, company_location, year_reviewed, bean_origin, bar_name, cocoa_percent, num_ingredients, ingredients, review, rating | 11     |\n",
      "| Jumlah Attribut Objek | manufacturer, company_location, bean_origin, bar_name, ingredients, review                                                            | 6      |\n",
      "| Jumlah Attribut Angka | id, year_reviewed, cocoa_percent, num_ingredients, rating                                                                             | 5      |\n",
      "| Jumlah Attribut Null  | num_ingredients, ingredients                                                                                                          | 2      |\n",
      "+-----------------------+---------------------------------------------------------------------------------------------------------------------------------------+--------+\n"
     ]
    }
   ],
   "source": [
    "table = PrettyTable([\"Jenis Informasi\", \"Nama Attribut\", \"Jumlah\"])\n",
    "table.align = \"l\"\n",
    "\n",
    "table.add_row([\"Jumlah Record\",\"-\", coklat_bar['total_records']])\n",
    "table.add_row([\"Nama Attribut\", f\"{', '.join(coklat_bar['nama_atribute'])}\",(len(coklat_bar['nama_atribute']))])\n",
    "table.add_row([\"Jumlah Attribut Objek\", f\"{', '.join(coklat_bar['objek_atribute'])}\", ( len(coklat_bar['objek_atribute']) )])\n",
    "table.add_row([\"Jumlah Attribut Angka\", f\"{', '.join(coklat_bar['angka_atribute'])}\", (len(coklat_bar['angka_atribute']))])\n",
    "table.add_row([\"Jumlah Attribut Null\", f\"{', '.join(coklat_bar['null_atribute'])}\", (len(coklat_bar['null_atribute']))])\n",
    "\n",
    "\n",
    "print(table)"
   ]
  },
  {
   "cell_type": "markdown",
   "id": "730d142b-4cdd-42c5-97e0-7dda0fbea1be",
   "metadata": {},
   "source": [
    "## KETENTUAN POINT 3\n",
    "Menampilkan rata-rata, standar deviasi, nilai minimum, nilai maksimum, Q1, Q2, dan Q3 dari attribute bertipe angka.\n",
    "\n",
    "**Solusi:** <br>\n",
    "`df.describe()` untuk mengembalikan nilai rata-rata, standar deviasi, nilai minimum, nilai maksimum, Q1, Q2, dan Q3 dari semua attribute yang bertipe data angka."
   ]
  },
  {
   "cell_type": "code",
   "execution_count": 141,
   "id": "48d3e6d5-f94e-4512-be28-a34ba3682364",
   "metadata": {},
   "outputs": [
    {
     "data": {
      "text/html": [
       "<div>\n",
       "<style scoped>\n",
       "    .dataframe tbody tr th:only-of-type {\n",
       "        vertical-align: middle;\n",
       "    }\n",
       "\n",
       "    .dataframe tbody tr th {\n",
       "        vertical-align: top;\n",
       "    }\n",
       "\n",
       "    .dataframe thead th {\n",
       "        text-align: right;\n",
       "    }\n",
       "</style>\n",
       "<table border=\"1\" class=\"dataframe\">\n",
       "  <thead>\n",
       "    <tr style=\"text-align: right;\">\n",
       "      <th></th>\n",
       "      <th>id</th>\n",
       "      <th>year_reviewed</th>\n",
       "      <th>cocoa_percent</th>\n",
       "      <th>num_ingredients</th>\n",
       "      <th>rating</th>\n",
       "    </tr>\n",
       "  </thead>\n",
       "  <tbody>\n",
       "    <tr>\n",
       "      <th>count</th>\n",
       "      <td>2530.000000</td>\n",
       "      <td>2530.000000</td>\n",
       "      <td>2530.000000</td>\n",
       "      <td>2443.000000</td>\n",
       "      <td>2530.000000</td>\n",
       "    </tr>\n",
       "    <tr>\n",
       "      <th>mean</th>\n",
       "      <td>1429.800791</td>\n",
       "      <td>2014.374308</td>\n",
       "      <td>71.639723</td>\n",
       "      <td>3.041343</td>\n",
       "      <td>3.196344</td>\n",
       "    </tr>\n",
       "    <tr>\n",
       "      <th>std</th>\n",
       "      <td>757.648556</td>\n",
       "      <td>3.968267</td>\n",
       "      <td>5.616724</td>\n",
       "      <td>0.913728</td>\n",
       "      <td>0.445321</td>\n",
       "    </tr>\n",
       "    <tr>\n",
       "      <th>min</th>\n",
       "      <td>5.000000</td>\n",
       "      <td>2006.000000</td>\n",
       "      <td>42.000000</td>\n",
       "      <td>1.000000</td>\n",
       "      <td>1.000000</td>\n",
       "    </tr>\n",
       "    <tr>\n",
       "      <th>25%</th>\n",
       "      <td>802.000000</td>\n",
       "      <td>2012.000000</td>\n",
       "      <td>70.000000</td>\n",
       "      <td>2.000000</td>\n",
       "      <td>3.000000</td>\n",
       "    </tr>\n",
       "    <tr>\n",
       "      <th>50%</th>\n",
       "      <td>1454.000000</td>\n",
       "      <td>2015.000000</td>\n",
       "      <td>70.000000</td>\n",
       "      <td>3.000000</td>\n",
       "      <td>3.250000</td>\n",
       "    </tr>\n",
       "    <tr>\n",
       "      <th>75%</th>\n",
       "      <td>2079.000000</td>\n",
       "      <td>2018.000000</td>\n",
       "      <td>74.000000</td>\n",
       "      <td>4.000000</td>\n",
       "      <td>3.500000</td>\n",
       "    </tr>\n",
       "    <tr>\n",
       "      <th>max</th>\n",
       "      <td>2712.000000</td>\n",
       "      <td>2021.000000</td>\n",
       "      <td>100.000000</td>\n",
       "      <td>6.000000</td>\n",
       "      <td>4.000000</td>\n",
       "    </tr>\n",
       "  </tbody>\n",
       "</table>\n",
       "</div>"
      ],
      "text/plain": [
       "                id  year_reviewed  cocoa_percent  num_ingredients       rating\n",
       "count  2530.000000    2530.000000    2530.000000      2443.000000  2530.000000\n",
       "mean   1429.800791    2014.374308      71.639723         3.041343     3.196344\n",
       "std     757.648556       3.968267       5.616724         0.913728     0.445321\n",
       "min       5.000000    2006.000000      42.000000         1.000000     1.000000\n",
       "25%     802.000000    2012.000000      70.000000         2.000000     3.000000\n",
       "50%    1454.000000    2015.000000      70.000000         3.000000     3.250000\n",
       "75%    2079.000000    2018.000000      74.000000         4.000000     3.500000\n",
       "max    2712.000000    2021.000000     100.000000         6.000000     4.000000"
      ]
     },
     "execution_count": 141,
     "metadata": {},
     "output_type": "execute_result"
    }
   ],
   "source": [
    "df.describe()"
   ]
  },
  {
   "cell_type": "markdown",
   "id": "29f73889-2c93-4608-a1bc-50236b87c74b",
   "metadata": {},
   "source": [
    "## KETENTUAN POINT 4\n",
    "\n",
    "Menampilkan nilai korelasi attribute bertipe angka\n",
    "\n",
    "**Solusi:** <br>\n",
    "untuk menampilkan korelasi bertipe data angka cukup dengan `df.corr(numeric_only=True)` tapi karena di dalam dataset ini terdapat attribut yang memiliki nilai null sehingga harus menambahkan `df.dropna()` guna untuk menghilangkan NaN."
   ]
  },
  {
   "cell_type": "code",
   "execution_count": 142,
   "id": "dea896fa-4843-48fe-8a15-6e9953459355",
   "metadata": {},
   "outputs": [
    {
     "data": {
      "text/html": [
       "<div>\n",
       "<style scoped>\n",
       "    .dataframe tbody tr th:only-of-type {\n",
       "        vertical-align: middle;\n",
       "    }\n",
       "\n",
       "    .dataframe tbody tr th {\n",
       "        vertical-align: top;\n",
       "    }\n",
       "\n",
       "    .dataframe thead th {\n",
       "        text-align: right;\n",
       "    }\n",
       "</style>\n",
       "<table border=\"1\" class=\"dataframe\">\n",
       "  <thead>\n",
       "    <tr style=\"text-align: right;\">\n",
       "      <th></th>\n",
       "      <th>id</th>\n",
       "      <th>year_reviewed</th>\n",
       "      <th>cocoa_percent</th>\n",
       "      <th>num_ingredients</th>\n",
       "      <th>rating</th>\n",
       "    </tr>\n",
       "  </thead>\n",
       "  <tbody>\n",
       "    <tr>\n",
       "      <th>id</th>\n",
       "      <td>1.000000</td>\n",
       "      <td>0.993091</td>\n",
       "      <td>0.047576</td>\n",
       "      <td>-0.356845</td>\n",
       "      <td>0.085569</td>\n",
       "    </tr>\n",
       "    <tr>\n",
       "      <th>year_reviewed</th>\n",
       "      <td>0.993091</td>\n",
       "      <td>1.000000</td>\n",
       "      <td>0.048043</td>\n",
       "      <td>-0.362956</td>\n",
       "      <td>0.087774</td>\n",
       "    </tr>\n",
       "    <tr>\n",
       "      <th>cocoa_percent</th>\n",
       "      <td>0.047576</td>\n",
       "      <td>0.048043</td>\n",
       "      <td>1.000000</td>\n",
       "      <td>-0.187468</td>\n",
       "      <td>-0.077173</td>\n",
       "    </tr>\n",
       "    <tr>\n",
       "      <th>num_ingredients</th>\n",
       "      <td>-0.356845</td>\n",
       "      <td>-0.362956</td>\n",
       "      <td>-0.187468</td>\n",
       "      <td>1.000000</td>\n",
       "      <td>-0.098834</td>\n",
       "    </tr>\n",
       "    <tr>\n",
       "      <th>rating</th>\n",
       "      <td>0.085569</td>\n",
       "      <td>0.087774</td>\n",
       "      <td>-0.077173</td>\n",
       "      <td>-0.098834</td>\n",
       "      <td>1.000000</td>\n",
       "    </tr>\n",
       "  </tbody>\n",
       "</table>\n",
       "</div>"
      ],
      "text/plain": [
       "                       id  year_reviewed  cocoa_percent  num_ingredients  \\\n",
       "id               1.000000       0.993091       0.047576        -0.356845   \n",
       "year_reviewed    0.993091       1.000000       0.048043        -0.362956   \n",
       "cocoa_percent    0.047576       0.048043       1.000000        -0.187468   \n",
       "num_ingredients -0.356845      -0.362956      -0.187468         1.000000   \n",
       "rating           0.085569       0.087774      -0.077173        -0.098834   \n",
       "\n",
       "                   rating  \n",
       "id               0.085569  \n",
       "year_reviewed    0.087774  \n",
       "cocoa_percent   -0.077173  \n",
       "num_ingredients -0.098834  \n",
       "rating           1.000000  "
      ]
     },
     "execution_count": 142,
     "metadata": {},
     "output_type": "execute_result"
    }
   ],
   "source": [
    "df.dropna().corr(numeric_only=True)"
   ]
  },
  {
   "cell_type": "markdown",
   "id": "1ecef925-6fe8-4497-a6c5-cde444ed4ad4",
   "metadata": {},
   "source": [
    "## KETENTUAN POINT 5\n",
    "Mengubah tipe data suatu attribut dari integer ke float atau sebaliknya.\n",
    "\n",
    "**Solusi:** <br>\n",
    "Untuk mengubah tipe data dari integer ke float cukup menggunakan syntax `df[['nama_attribute']] = df[['nama_attribute']].astype(\"float64\")` tapi menggunakan syntax tersebut hanya menghasilkan 1 angka dibelakang koma dan yang diminta adalah 3 angka dibelakang koma, sehingga syntax yang digunakan adalah `df[\"nama_attribute\"] = df[\"nama_attribute\"].map('{:.3f}'.format)`."
   ]
  },
  {
   "cell_type": "code",
   "execution_count": 143,
   "id": "37376091-136a-4e13-981d-40233b28f5b2",
   "metadata": {},
   "outputs": [
    {
     "data": {
      "text/plain": [
       "dtype('float64')"
      ]
     },
     "execution_count": 143,
     "metadata": {},
     "output_type": "execute_result"
    }
   ],
   "source": [
    "df[['id']] = df[['id']].astype(\"float64\")\n",
    "df['id'].dtypes"
   ]
  },
  {
   "cell_type": "code",
   "execution_count": 144,
   "id": "552b78a3-9051-4b9e-a537-74dfc1d41a42",
   "metadata": {},
   "outputs": [],
   "source": [
    "df[\"id\"] = df[\"id\"].map('{:.3f}'.format)"
   ]
  },
  {
   "cell_type": "markdown",
   "id": "6e22af6d-9bac-49a1-be9b-ba25c8beaf40",
   "metadata": {},
   "source": [
    "## KETENTUAN POINT 6\n",
    "Menampilkan 10 record pertama dari attribute bertipe data angka.\n",
    "\n",
    "**Solusi:** <br>\n",
    "Untuk menampilkan attribut dengan tipe data angka saya menggunakan fungsi `loc`."
   ]
  },
  {
   "cell_type": "code",
   "execution_count": 145,
   "id": "33ae26c0-6ea1-4c5a-a12a-0af9ab700792",
   "metadata": {},
   "outputs": [
    {
     "data": {
      "text/html": [
       "<div>\n",
       "<style scoped>\n",
       "    .dataframe tbody tr th:only-of-type {\n",
       "        vertical-align: middle;\n",
       "    }\n",
       "\n",
       "    .dataframe tbody tr th {\n",
       "        vertical-align: top;\n",
       "    }\n",
       "\n",
       "    .dataframe thead th {\n",
       "        text-align: right;\n",
       "    }\n",
       "</style>\n",
       "<table border=\"1\" class=\"dataframe\">\n",
       "  <thead>\n",
       "    <tr style=\"text-align: right;\">\n",
       "      <th></th>\n",
       "      <th>id</th>\n",
       "      <th>year_reviewed</th>\n",
       "      <th>cocoa_percent</th>\n",
       "      <th>num_ingredients</th>\n",
       "      <th>rating</th>\n",
       "    </tr>\n",
       "  </thead>\n",
       "  <tbody>\n",
       "    <tr>\n",
       "      <th>0</th>\n",
       "      <td>2454.000</td>\n",
       "      <td>2019</td>\n",
       "      <td>76.0</td>\n",
       "      <td>3.0</td>\n",
       "      <td>3.25</td>\n",
       "    </tr>\n",
       "    <tr>\n",
       "      <th>1</th>\n",
       "      <td>2458.000</td>\n",
       "      <td>2019</td>\n",
       "      <td>76.0</td>\n",
       "      <td>3.0</td>\n",
       "      <td>3.50</td>\n",
       "    </tr>\n",
       "    <tr>\n",
       "      <th>2</th>\n",
       "      <td>2454.000</td>\n",
       "      <td>2019</td>\n",
       "      <td>76.0</td>\n",
       "      <td>3.0</td>\n",
       "      <td>3.75</td>\n",
       "    </tr>\n",
       "    <tr>\n",
       "      <th>3</th>\n",
       "      <td>2542.000</td>\n",
       "      <td>2021</td>\n",
       "      <td>68.0</td>\n",
       "      <td>3.0</td>\n",
       "      <td>3.00</td>\n",
       "    </tr>\n",
       "    <tr>\n",
       "      <th>4</th>\n",
       "      <td>2546.000</td>\n",
       "      <td>2021</td>\n",
       "      <td>72.0</td>\n",
       "      <td>3.0</td>\n",
       "      <td>3.00</td>\n",
       "    </tr>\n",
       "    <tr>\n",
       "      <th>5</th>\n",
       "      <td>2546.000</td>\n",
       "      <td>2021</td>\n",
       "      <td>80.0</td>\n",
       "      <td>3.0</td>\n",
       "      <td>3.25</td>\n",
       "    </tr>\n",
       "    <tr>\n",
       "      <th>6</th>\n",
       "      <td>2542.000</td>\n",
       "      <td>2021</td>\n",
       "      <td>68.0</td>\n",
       "      <td>3.0</td>\n",
       "      <td>3.50</td>\n",
       "    </tr>\n",
       "    <tr>\n",
       "      <th>7</th>\n",
       "      <td>797.000</td>\n",
       "      <td>2012</td>\n",
       "      <td>70.0</td>\n",
       "      <td>4.0</td>\n",
       "      <td>3.50</td>\n",
       "    </tr>\n",
       "    <tr>\n",
       "      <th>8</th>\n",
       "      <td>797.000</td>\n",
       "      <td>2012</td>\n",
       "      <td>63.0</td>\n",
       "      <td>4.0</td>\n",
       "      <td>3.75</td>\n",
       "    </tr>\n",
       "    <tr>\n",
       "      <th>9</th>\n",
       "      <td>1011.000</td>\n",
       "      <td>2013</td>\n",
       "      <td>70.0</td>\n",
       "      <td>4.0</td>\n",
       "      <td>2.75</td>\n",
       "    </tr>\n",
       "  </tbody>\n",
       "</table>\n",
       "</div>"
      ],
      "text/plain": [
       "         id  year_reviewed  cocoa_percent  num_ingredients  rating\n",
       "0  2454.000           2019           76.0              3.0    3.25\n",
       "1  2458.000           2019           76.0              3.0    3.50\n",
       "2  2454.000           2019           76.0              3.0    3.75\n",
       "3  2542.000           2021           68.0              3.0    3.00\n",
       "4  2546.000           2021           72.0              3.0    3.00\n",
       "5  2546.000           2021           80.0              3.0    3.25\n",
       "6  2542.000           2021           68.0              3.0    3.50\n",
       "7   797.000           2012           70.0              4.0    3.50\n",
       "8   797.000           2012           63.0              4.0    3.75\n",
       "9  1011.000           2013           70.0              4.0    2.75"
      ]
     },
     "execution_count": 145,
     "metadata": {},
     "output_type": "execute_result"
    }
   ],
   "source": [
    "attribut_angka=[]\n",
    "for i in coklat_bar['angka_atribute']:\n",
    "    attribut_angka.append(i)\n",
    "df.loc[ :9,attribut_angka]"
   ]
  },
  {
   "cell_type": "markdown",
   "id": "917224a7-19dd-4801-b436-523b11570cdd",
   "metadata": {},
   "source": [
    "## KETENTUAN POINT 7\n",
    "Simpan dataset dengan attribute bertipe angka ke dalam file CSV.\n",
    "\n",
    "**Solusi:** <br>\n",
    "Untuk menyimpan dataset yang baru menggunakan `nama_data.to_csv(\"./nama_file.csv\")`"
   ]
  },
  {
   "cell_type": "code",
   "execution_count": 146,
   "id": "09639345-4b99-4601-b634-c8d748ecd4f4",
   "metadata": {},
   "outputs": [
    {
     "name": "stdout",
     "output_type": "stream",
     "text": [
      "<class 'pandas.core.frame.DataFrame'>\n",
      "Int64Index: 2530 entries, 0 to 2529\n",
      "Data columns (total 5 columns):\n",
      " #   Column           Non-Null Count  Dtype  \n",
      "---  ------           --------------  -----  \n",
      " 0   id               2530 non-null   float64\n",
      " 1   year_reviewed    2530 non-null   int64  \n",
      " 2   cocoa_percent    2530 non-null   float64\n",
      " 3   num_ingredients  2443 non-null   float64\n",
      " 4   rating           2530 non-null   float64\n",
      "dtypes: float64(4), int64(1)\n",
      "memory usage: 118.6 KB\n"
     ]
    }
   ],
   "source": [
    "df_angka=df[attribut_angka]\n",
    "df_angka.to_csv(\"./dataset_coklat.csv\")\n",
    "df_hasil = pd.read_csv(\"./dataset_coklat.csv\", index_col=0)\n",
    "df_hasil.info()"
   ]
  },
  {
   "cell_type": "code",
   "execution_count": null,
   "id": "c3d8688b-b651-441b-aee2-4e85ebdf056f",
   "metadata": {},
   "outputs": [],
   "source": []
  }
 ],
 "metadata": {
  "kernelspec": {
   "display_name": "Python 3 (ipykernel)",
   "language": "python",
   "name": "python3"
  },
  "language_info": {
   "codemirror_mode": {
    "name": "ipython",
    "version": 3
   },
   "file_extension": ".py",
   "mimetype": "text/x-python",
   "name": "python",
   "nbconvert_exporter": "python",
   "pygments_lexer": "ipython3",
   "version": "3.10.7"
  }
 },
 "nbformat": 4,
 "nbformat_minor": 5
}
