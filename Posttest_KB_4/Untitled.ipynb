{
 "cells": [
  {
   "cell_type": "markdown",
   "id": "36e771da-1e0a-49f5-a0d4-8707005bda73",
   "metadata": {},
   "source": [
    "# POSTTEST 4 Data Preprocessing\n",
    "\n",
    "Nama : Herni Suhartati <br>\n",
    "NIM : 2109106001 <br>\n",
    "Kelas : A1 Informatika 2021 <br>\n",
    "\n",
    "### Vehicle Dataset"
   ]
  },
  {
   "cell_type": "code",
   "execution_count": 4,
   "id": "87435d7a-9c6a-4cbf-8128-a9e9e5a2b74a",
   "metadata": {},
   "outputs": [],
   "source": [
    "# Import library yang digunakan\n",
    "import pandas as pd\n",
    "import numpy as np"
   ]
  },
  {
   "cell_type": "code",
   "execution_count": 134,
   "id": "3367f569-ed92-491d-9fb4-1b521b9a3e47",
   "metadata": {},
   "outputs": [
    {
     "data": {
      "text/html": [
       "<div>\n",
       "<style scoped>\n",
       "    .dataframe tbody tr th:only-of-type {\n",
       "        vertical-align: middle;\n",
       "    }\n",
       "\n",
       "    .dataframe tbody tr th {\n",
       "        vertical-align: top;\n",
       "    }\n",
       "\n",
       "    .dataframe thead th {\n",
       "        text-align: right;\n",
       "    }\n",
       "</style>\n",
       "<table border=\"1\" class=\"dataframe\">\n",
       "  <thead>\n",
       "    <tr style=\"text-align: right;\">\n",
       "      <th></th>\n",
       "      <th>name</th>\n",
       "      <th>year</th>\n",
       "      <th>selling_price</th>\n",
       "      <th>km_driven</th>\n",
       "      <th>fuel</th>\n",
       "      <th>seller_type</th>\n",
       "      <th>transmission</th>\n",
       "      <th>owner</th>\n",
       "    </tr>\n",
       "  </thead>\n",
       "  <tbody>\n",
       "    <tr>\n",
       "      <th>0</th>\n",
       "      <td>Maruti 800 AC</td>\n",
       "      <td>2007</td>\n",
       "      <td>60000</td>\n",
       "      <td>70000</td>\n",
       "      <td>Petrol</td>\n",
       "      <td>Individual</td>\n",
       "      <td>Manual</td>\n",
       "      <td>First Owner</td>\n",
       "    </tr>\n",
       "    <tr>\n",
       "      <th>1</th>\n",
       "      <td>Maruti Wagon R LXI Minor</td>\n",
       "      <td>2007</td>\n",
       "      <td>135000</td>\n",
       "      <td>50000</td>\n",
       "      <td>Petrol</td>\n",
       "      <td>Individual</td>\n",
       "      <td>Manual</td>\n",
       "      <td>First Owner</td>\n",
       "    </tr>\n",
       "    <tr>\n",
       "      <th>2</th>\n",
       "      <td>Hyundai Verna 1.6 SX</td>\n",
       "      <td>2012</td>\n",
       "      <td>600000</td>\n",
       "      <td>100000</td>\n",
       "      <td>Diesel</td>\n",
       "      <td>Individual</td>\n",
       "      <td>Manual</td>\n",
       "      <td>First Owner</td>\n",
       "    </tr>\n",
       "    <tr>\n",
       "      <th>3</th>\n",
       "      <td>Datsun RediGO T Option</td>\n",
       "      <td>2017</td>\n",
       "      <td>250000</td>\n",
       "      <td>46000</td>\n",
       "      <td>Petrol</td>\n",
       "      <td>Individual</td>\n",
       "      <td>Manual</td>\n",
       "      <td>First Owner</td>\n",
       "    </tr>\n",
       "    <tr>\n",
       "      <th>4</th>\n",
       "      <td>Honda Amaze VX i-DTEC</td>\n",
       "      <td>2014</td>\n",
       "      <td>450000</td>\n",
       "      <td>141000</td>\n",
       "      <td>Diesel</td>\n",
       "      <td>Individual</td>\n",
       "      <td>Manual</td>\n",
       "      <td>Second Owner</td>\n",
       "    </tr>\n",
       "    <tr>\n",
       "      <th>5</th>\n",
       "      <td>Maruti Alto LX BSIII</td>\n",
       "      <td>2007</td>\n",
       "      <td>140000</td>\n",
       "      <td>125000</td>\n",
       "      <td>Petrol</td>\n",
       "      <td>Individual</td>\n",
       "      <td>Manual</td>\n",
       "      <td>First Owner</td>\n",
       "    </tr>\n",
       "    <tr>\n",
       "      <th>6</th>\n",
       "      <td>Hyundai Xcent 1.2 Kappa S</td>\n",
       "      <td>2016</td>\n",
       "      <td>550000</td>\n",
       "      <td>25000</td>\n",
       "      <td>Petrol</td>\n",
       "      <td>Individual</td>\n",
       "      <td>Manual</td>\n",
       "      <td>First Owner</td>\n",
       "    </tr>\n",
       "    <tr>\n",
       "      <th>7</th>\n",
       "      <td>Tata Indigo Grand Petrol</td>\n",
       "      <td>2014</td>\n",
       "      <td>240000</td>\n",
       "      <td>60000</td>\n",
       "      <td>Petrol</td>\n",
       "      <td>Individual</td>\n",
       "      <td>Manual</td>\n",
       "      <td>Second Owner</td>\n",
       "    </tr>\n",
       "    <tr>\n",
       "      <th>8</th>\n",
       "      <td>Hyundai Creta 1.6 VTVT S</td>\n",
       "      <td>2015</td>\n",
       "      <td>850000</td>\n",
       "      <td>25000</td>\n",
       "      <td>Petrol</td>\n",
       "      <td>Individual</td>\n",
       "      <td>Manual</td>\n",
       "      <td>First Owner</td>\n",
       "    </tr>\n",
       "    <tr>\n",
       "      <th>9</th>\n",
       "      <td>Maruti Celerio Green VXI</td>\n",
       "      <td>2017</td>\n",
       "      <td>365000</td>\n",
       "      <td>78000</td>\n",
       "      <td>CNG</td>\n",
       "      <td>Individual</td>\n",
       "      <td>Manual</td>\n",
       "      <td>First Owner</td>\n",
       "    </tr>\n",
       "  </tbody>\n",
       "</table>\n",
       "</div>"
      ],
      "text/plain": [
       "                        name  year  selling_price  km_driven    fuel  \\\n",
       "0              Maruti 800 AC  2007          60000      70000  Petrol   \n",
       "1   Maruti Wagon R LXI Minor  2007         135000      50000  Petrol   \n",
       "2       Hyundai Verna 1.6 SX  2012         600000     100000  Diesel   \n",
       "3     Datsun RediGO T Option  2017         250000      46000  Petrol   \n",
       "4      Honda Amaze VX i-DTEC  2014         450000     141000  Diesel   \n",
       "5       Maruti Alto LX BSIII  2007         140000     125000  Petrol   \n",
       "6  Hyundai Xcent 1.2 Kappa S  2016         550000      25000  Petrol   \n",
       "7   Tata Indigo Grand Petrol  2014         240000      60000  Petrol   \n",
       "8   Hyundai Creta 1.6 VTVT S  2015         850000      25000  Petrol   \n",
       "9   Maruti Celerio Green VXI  2017         365000      78000     CNG   \n",
       "\n",
       "  seller_type transmission         owner  \n",
       "0  Individual       Manual   First Owner  \n",
       "1  Individual       Manual   First Owner  \n",
       "2  Individual       Manual   First Owner  \n",
       "3  Individual       Manual   First Owner  \n",
       "4  Individual       Manual  Second Owner  \n",
       "5  Individual       Manual   First Owner  \n",
       "6  Individual       Manual   First Owner  \n",
       "7  Individual       Manual  Second Owner  \n",
       "8  Individual       Manual   First Owner  \n",
       "9  Individual       Manual   First Owner  "
      ]
     },
     "execution_count": 134,
     "metadata": {},
     "output_type": "execute_result"
    }
   ],
   "source": [
    "df=pd.read_csv('vehicle.csv')\n",
    "df.head(10)"
   ]
  },
  {
   "cell_type": "markdown",
   "id": "85e1b7e1-1676-473d-bbb1-04d15efd2085",
   "metadata": {},
   "source": [
    "### Split Data dengan proporsi 70:30"
   ]
  },
  {
   "cell_type": "code",
   "execution_count": 135,
   "id": "c64a726c-82d0-46c4-8550-3365976b635e",
   "metadata": {},
   "outputs": [],
   "source": [
    "from sklearn.model_selection import train_test_split # import Scikit Learn library untuk menggunakan fungsi train_test_split\n",
    "\n",
    "x = df.iloc[:,:-1]\n",
    "y = df.iloc[:,-1]\n",
    "\n",
    "x_train,x_test,y_train,y_test=train_test_split(x,y, test_size=0.3)"
   ]
  },
  {
   "cell_type": "code",
   "execution_count": 136,
   "id": "7f9083d5-ca54-4b08-a26f-082b28d96c4a",
   "metadata": {},
   "outputs": [
    {
     "name": "stdout",
     "output_type": "stream",
     "text": [
      "Dimensi x_train:  (3038, 7)\n",
      "Dimensi y_train:  (3038,)\n",
      "Dimensi x_test:  (1302, 7)\n",
      "Dimensi y_test:  (1302,)\n"
     ]
    }
   ],
   "source": [
    "print(\"Dimensi x_train: \", x_train.shape)\n",
    "print(\"Dimensi y_train: \", y_train.shape)\n",
    "print(\"Dimensi x_test: \", x_test.shape)\n",
    "print(\"Dimensi y_test: \", y_test.shape)"
   ]
  },
  {
   "cell_type": "markdown",
   "id": "02fcd5b9-20dd-43c9-b1e4-3ae97c5d7106",
   "metadata": {},
   "source": [
    "### Normalisasi"
   ]
  },
  {
   "cell_type": "code",
   "execution_count": 137,
   "id": "37740069-ab09-4b98-a9c4-1c2b62f88703",
   "metadata": {},
   "outputs": [],
   "source": [
    "from sklearn.preprocessing import MinMaxScaler # import library Scikit Learn untuk menggunakan fungsi MinmaxScaler"
   ]
  },
  {
   "cell_type": "code",
   "execution_count": 138,
   "id": "60942cff-4f0f-4b0f-abbd-7dc0c7bf2bd1",
   "metadata": {},
   "outputs": [
    {
     "name": "stdout",
     "output_type": "stream",
     "text": [
      "Perbandingan data setelah dan sebelum normalisasi\n"
     ]
    },
    {
     "data": {
      "text/html": [
       "<div>\n",
       "<style scoped>\n",
       "    .dataframe tbody tr th:only-of-type {\n",
       "        vertical-align: middle;\n",
       "    }\n",
       "\n",
       "    .dataframe tbody tr th {\n",
       "        vertical-align: top;\n",
       "    }\n",
       "\n",
       "    .dataframe thead th {\n",
       "        text-align: right;\n",
       "    }\n",
       "</style>\n",
       "<table border=\"1\" class=\"dataframe\">\n",
       "  <thead>\n",
       "    <tr style=\"text-align: right;\">\n",
       "      <th></th>\n",
       "      <th>selling_price</th>\n",
       "      <th>normalisasi</th>\n",
       "    </tr>\n",
       "  </thead>\n",
       "  <tbody>\n",
       "    <tr>\n",
       "      <th>0</th>\n",
       "      <td>60000</td>\n",
       "      <td>0.004505</td>\n",
       "    </tr>\n",
       "    <tr>\n",
       "      <th>1</th>\n",
       "      <td>135000</td>\n",
       "      <td>0.012950</td>\n",
       "    </tr>\n",
       "    <tr>\n",
       "      <th>2</th>\n",
       "      <td>600000</td>\n",
       "      <td>0.065315</td>\n",
       "    </tr>\n",
       "    <tr>\n",
       "      <th>3</th>\n",
       "      <td>250000</td>\n",
       "      <td>0.025901</td>\n",
       "    </tr>\n",
       "    <tr>\n",
       "      <th>4</th>\n",
       "      <td>450000</td>\n",
       "      <td>0.048423</td>\n",
       "    </tr>\n",
       "  </tbody>\n",
       "</table>\n",
       "</div>"
      ],
      "text/plain": [
       "   selling_price  normalisasi\n",
       "0          60000     0.004505\n",
       "1         135000     0.012950\n",
       "2         600000     0.065315\n",
       "3         250000     0.025901\n",
       "4         450000     0.048423"
      ]
     },
     "execution_count": 138,
     "metadata": {},
     "output_type": "execute_result"
    }
   ],
   "source": [
    "df_normalis = df[[\"selling_price\"]] # Menyalin data set\n",
    "minmax_scaler = MinMaxScaler()\n",
    "normalis_scale = minmax_scaler.fit_transform(\n",
    "    df_normalis[[\"selling_price\"]]) # Proses normalisasi\n",
    "data_normalisasi = pd.DataFrame(normalis_scale,columns=[\"normalisasi\"])\n",
    "df_normalis = df_normalis.join(data_normalisasi)\n",
    "print (\"Perbandingan data setelah dan sebelum normalisasi\")\n",
    "df_normalis.head()"
   ]
  },
  {
   "cell_type": "markdown",
   "id": "cbe29405-9e36-4af0-81bb-d4ed28d74f5d",
   "metadata": {},
   "source": [
    "### Standarisasi"
   ]
  },
  {
   "cell_type": "code",
   "execution_count": 139,
   "id": "b66d488e-1016-4c07-a0e9-28e6a5919b4d",
   "metadata": {},
   "outputs": [],
   "source": [
    "from sklearn.preprocessing import StandardScaler # import library Scikit Learn untuk menggunakan fungsi StandardScaler"
   ]
  },
  {
   "cell_type": "code",
   "execution_count": 140,
   "id": "1e7809fd-e467-47a1-ad11-c03742e304f9",
   "metadata": {},
   "outputs": [
    {
     "name": "stdout",
     "output_type": "stream",
     "text": [
      "Perbandingan data setelah dan sebelum standarisasi\n"
     ]
    },
    {
     "data": {
      "text/html": [
       "<div>\n",
       "<style scoped>\n",
       "    .dataframe tbody tr th:only-of-type {\n",
       "        vertical-align: middle;\n",
       "    }\n",
       "\n",
       "    .dataframe tbody tr th {\n",
       "        vertical-align: top;\n",
       "    }\n",
       "\n",
       "    .dataframe thead th {\n",
       "        text-align: right;\n",
       "    }\n",
       "</style>\n",
       "<table border=\"1\" class=\"dataframe\">\n",
       "  <thead>\n",
       "    <tr style=\"text-align: right;\">\n",
       "      <th></th>\n",
       "      <th>km_driven</th>\n",
       "      <th>selling_price</th>\n",
       "      <th>km_driven_standar</th>\n",
       "      <th>selling_price_standar</th>\n",
       "    </tr>\n",
       "  </thead>\n",
       "  <tbody>\n",
       "    <tr>\n",
       "      <th>0</th>\n",
       "      <td>70000</td>\n",
       "      <td>60000</td>\n",
       "      <td>0.081139</td>\n",
       "      <td>-0.767746</td>\n",
       "    </tr>\n",
       "    <tr>\n",
       "      <th>1</th>\n",
       "      <td>50000</td>\n",
       "      <td>135000</td>\n",
       "      <td>-0.347689</td>\n",
       "      <td>-0.638096</td>\n",
       "    </tr>\n",
       "    <tr>\n",
       "      <th>2</th>\n",
       "      <td>100000</td>\n",
       "      <td>600000</td>\n",
       "      <td>0.724381</td>\n",
       "      <td>0.165731</td>\n",
       "    </tr>\n",
       "    <tr>\n",
       "      <th>3</th>\n",
       "      <td>46000</td>\n",
       "      <td>250000</td>\n",
       "      <td>-0.433455</td>\n",
       "      <td>-0.439300</td>\n",
       "    </tr>\n",
       "    <tr>\n",
       "      <th>4</th>\n",
       "      <td>141000</td>\n",
       "      <td>450000</td>\n",
       "      <td>1.603479</td>\n",
       "      <td>-0.093568</td>\n",
       "    </tr>\n",
       "  </tbody>\n",
       "</table>\n",
       "</div>"
      ],
      "text/plain": [
       "   km_driven  selling_price  km_driven_standar  selling_price_standar\n",
       "0      70000          60000           0.081139              -0.767746\n",
       "1      50000         135000          -0.347689              -0.638096\n",
       "2     100000         600000           0.724381               0.165731\n",
       "3      46000         250000          -0.433455              -0.439300\n",
       "4     141000         450000           1.603479              -0.093568"
      ]
     },
     "execution_count": 140,
     "metadata": {},
     "output_type": "execute_result"
    }
   ],
   "source": [
    "df_standar=df[[\"km_driven\",\"selling_price\"]] # Menyalin data set\n",
    "ss = StandardScaler()\n",
    "standar_scale = ss.fit_transform(\n",
    "    df_standar[[\"km_driven\",\"selling_price\"]]) # Proses standarisasi \n",
    "data_standarisasi = pd.DataFrame(standar_scale, columns=[\"km_driven_standar\",\"selling_price_standar\"])\n",
    "df_standar = df_standar.join(data_standarisasi)\n",
    "print (\"Perbandingan data setelah dan sebelum standarisasi\")\n",
    "df_standar.head()"
   ]
  },
  {
   "cell_type": "code",
   "execution_count": 141,
   "id": "c76d2fe0-94e6-4e9a-a76d-063fd50a0c97",
   "metadata": {},
   "outputs": [
    {
     "data": {
      "text/plain": [
       "km_driven_standar        1.0\n",
       "selling_price_standar    1.0\n",
       "dtype: float64"
      ]
     },
     "execution_count": 141,
     "metadata": {},
     "output_type": "execute_result"
    }
   ],
   "source": [
    "np.std(data_standarisasi) # Mengecek standar deviasi dari setiap kolom"
   ]
  },
  {
   "cell_type": "markdown",
   "id": "7591e98f-e1af-42d5-adfc-f1430fce1fe9",
   "metadata": {},
   "source": [
    "### Data Cleaning\n",
    "\n",
    "Dikarenakan dataset utama terbilang tidak rusak, sehingga di sini merusak dataset yang bagus kemudian melakukan cleaning dari dataset tersebut."
   ]
  },
  {
   "cell_type": "code",
   "execution_count": 144,
   "id": "81d98f32-3ec1-45d8-9be4-1e328e174382",
   "metadata": {},
   "outputs": [],
   "source": [
    "df_rusak=pd.read_csv(\"vehicle_rusak.csv\")"
   ]
  },
  {
   "cell_type": "code",
   "execution_count": 145,
   "id": "e2edf3ef-d37f-4bd0-b631-b51c5ee453a2",
   "metadata": {},
   "outputs": [
    {
     "data": {
      "text/html": [
       "<div>\n",
       "<style scoped>\n",
       "    .dataframe tbody tr th:only-of-type {\n",
       "        vertical-align: middle;\n",
       "    }\n",
       "\n",
       "    .dataframe tbody tr th {\n",
       "        vertical-align: top;\n",
       "    }\n",
       "\n",
       "    .dataframe thead th {\n",
       "        text-align: right;\n",
       "    }\n",
       "</style>\n",
       "<table border=\"1\" class=\"dataframe\">\n",
       "  <thead>\n",
       "    <tr style=\"text-align: right;\">\n",
       "      <th></th>\n",
       "      <th>name</th>\n",
       "      <th>year</th>\n",
       "      <th>selling_price</th>\n",
       "      <th>km_driven</th>\n",
       "      <th>fuel</th>\n",
       "      <th>seller_type</th>\n",
       "      <th>transmission</th>\n",
       "      <th>owner</th>\n",
       "    </tr>\n",
       "  </thead>\n",
       "  <tbody>\n",
       "    <tr>\n",
       "      <th>10</th>\n",
       "      <td>Chevrolet Sail 1.2 Base</td>\n",
       "      <td>2015</td>\n",
       "      <td>NaN</td>\n",
       "      <td>NaN</td>\n",
       "      <td>NaN</td>\n",
       "      <td>NaN</td>\n",
       "      <td>NaN</td>\n",
       "      <td>NaN</td>\n",
       "    </tr>\n",
       "    <tr>\n",
       "      <th>11</th>\n",
       "      <td>Tata Indigo Grand Petrol</td>\n",
       "      <td>2014</td>\n",
       "      <td>250000.0</td>\n",
       "      <td>NaN</td>\n",
       "      <td>NaN</td>\n",
       "      <td>NaN</td>\n",
       "      <td>NaN</td>\n",
       "      <td>NaN</td>\n",
       "    </tr>\n",
       "    <tr>\n",
       "      <th>12</th>\n",
       "      <td>Toyota Corolla Altis 1.8 VL CVT</td>\n",
       "      <td>2018</td>\n",
       "      <td>NaN</td>\n",
       "      <td>NaN</td>\n",
       "      <td>NaN</td>\n",
       "      <td>NaN</td>\n",
       "      <td>NaN</td>\n",
       "      <td>NaN</td>\n",
       "    </tr>\n",
       "    <tr>\n",
       "      <th>13</th>\n",
       "      <td>Maruti 800 AC</td>\n",
       "      <td>2007</td>\n",
       "      <td>60000.0</td>\n",
       "      <td>70000.0</td>\n",
       "      <td>NaN</td>\n",
       "      <td>NaN</td>\n",
       "      <td>NaN</td>\n",
       "      <td>NaN</td>\n",
       "    </tr>\n",
       "    <tr>\n",
       "      <th>14</th>\n",
       "      <td>Maruti Wagon R LXI Minor</td>\n",
       "      <td>2007</td>\n",
       "      <td>135000.0</td>\n",
       "      <td>NaN</td>\n",
       "      <td>NaN</td>\n",
       "      <td>NaN</td>\n",
       "      <td>NaN</td>\n",
       "      <td>NaN</td>\n",
       "    </tr>\n",
       "    <tr>\n",
       "      <th>15</th>\n",
       "      <td>Hyundai Verna 1.6</td>\n",
       "      <td>2015</td>\n",
       "      <td>NaN</td>\n",
       "      <td>NaN</td>\n",
       "      <td>NaN</td>\n",
       "      <td>NaN</td>\n",
       "      <td>NaN</td>\n",
       "      <td>NaN</td>\n",
       "    </tr>\n",
       "    <tr>\n",
       "      <th>16</th>\n",
       "      <td>Datsun RediGO T Option</td>\n",
       "      <td>2017</td>\n",
       "      <td>NaN</td>\n",
       "      <td>NaN</td>\n",
       "      <td>NaN</td>\n",
       "      <td>NaN</td>\n",
       "      <td>NaN</td>\n",
       "      <td>NaN</td>\n",
       "    </tr>\n",
       "    <tr>\n",
       "      <th>17</th>\n",
       "      <td>Honda Amaze VX i-DTEC</td>\n",
       "      <td>2014</td>\n",
       "      <td>NaN</td>\n",
       "      <td>NaN</td>\n",
       "      <td>NaN</td>\n",
       "      <td>NaN</td>\n",
       "      <td>NaN</td>\n",
       "      <td>NaN</td>\n",
       "    </tr>\n",
       "    <tr>\n",
       "      <th>18</th>\n",
       "      <td>Datsun RediGO T Option</td>\n",
       "      <td>2017</td>\n",
       "      <td>NaN</td>\n",
       "      <td>NaN</td>\n",
       "      <td>NaN</td>\n",
       "      <td>NaN</td>\n",
       "      <td>NaN</td>\n",
       "      <td>NaN</td>\n",
       "    </tr>\n",
       "    <tr>\n",
       "      <th>19</th>\n",
       "      <td>Hyundai Xcent 1.2 Kappa S</td>\n",
       "      <td>2016</td>\n",
       "      <td>NaN</td>\n",
       "      <td>NaN</td>\n",
       "      <td>NaN</td>\n",
       "      <td>NaN</td>\n",
       "      <td>NaN</td>\n",
       "      <td>NaN</td>\n",
       "    </tr>\n",
       "  </tbody>\n",
       "</table>\n",
       "</div>"
      ],
      "text/plain": [
       "                               name  year  selling_price  km_driven fuel  \\\n",
       "10          Chevrolet Sail 1.2 Base  2015            NaN        NaN  NaN   \n",
       "11         Tata Indigo Grand Petrol  2014       250000.0        NaN  NaN   \n",
       "12  Toyota Corolla Altis 1.8 VL CVT  2018            NaN        NaN  NaN   \n",
       "13                    Maruti 800 AC  2007        60000.0    70000.0  NaN   \n",
       "14         Maruti Wagon R LXI Minor  2007       135000.0        NaN  NaN   \n",
       "15                Hyundai Verna 1.6  2015            NaN        NaN  NaN   \n",
       "16           Datsun RediGO T Option  2017            NaN        NaN  NaN   \n",
       "17            Honda Amaze VX i-DTEC  2014            NaN        NaN  NaN   \n",
       "18           Datsun RediGO T Option  2017            NaN        NaN  NaN   \n",
       "19        Hyundai Xcent 1.2 Kappa S  2016            NaN        NaN  NaN   \n",
       "\n",
       "   seller_type transmission owner  \n",
       "10         NaN          NaN   NaN  \n",
       "11         NaN          NaN   NaN  \n",
       "12         NaN          NaN   NaN  \n",
       "13         NaN          NaN   NaN  \n",
       "14         NaN          NaN   NaN  \n",
       "15         NaN          NaN   NaN  \n",
       "16         NaN          NaN   NaN  \n",
       "17         NaN          NaN   NaN  \n",
       "18         NaN          NaN   NaN  \n",
       "19         NaN          NaN   NaN  "
      ]
     },
     "execution_count": 145,
     "metadata": {},
     "output_type": "execute_result"
    }
   ],
   "source": [
    "df_rusak[10:20]"
   ]
  },
  {
   "cell_type": "markdown",
   "id": "7b0a7bc2-0118-4a20-b572-b3e3a8cec2d3",
   "metadata": {},
   "source": [
    "### Menangani Nilai Null dari Dataset"
   ]
  },
  {
   "cell_type": "code",
   "execution_count": 146,
   "id": "fe2add1e-12dd-4bda-9d4b-401fe3ac4f04",
   "metadata": {},
   "outputs": [
    {
     "data": {
      "text/plain": [
       "name              0\n",
       "year              0\n",
       "selling_price     9\n",
       "km_driven        12\n",
       "fuel             14\n",
       "seller_type      14\n",
       "transmission     14\n",
       "owner            14\n",
       "dtype: int64"
      ]
     },
     "execution_count": 146,
     "metadata": {},
     "output_type": "execute_result"
    }
   ],
   "source": [
    "df_rusak.isna().sum() # Melihat jumlah nilai nul dari setiap kolom"
   ]
  },
  {
   "cell_type": "code",
   "execution_count": 147,
   "id": "67884d51-bdae-4bc1-81e2-4cbb820040a2",
   "metadata": {},
   "outputs": [],
   "source": [
    "from sklearn.impute import SimpleImputer # import library Scikit Learn untuk menggunakan fungsi SimpleImputer\n",
    "cleanNull = SimpleImputer(strategy=\"most_frequent\") # Mengahapus nilai null menggunakan strategi modus"
   ]
  },
  {
   "cell_type": "code",
   "execution_count": 148,
   "id": "7b8ea0fa-1f93-4c1a-bcea-b9cf703d4724",
   "metadata": {},
   "outputs": [],
   "source": [
    "df_rusak[\"selling_price\"] = cleanNull.fit_transform(df_rusak[[\"selling_price\"]])"
   ]
  },
  {
   "cell_type": "code",
   "execution_count": 149,
   "id": "b6ab121c-2e72-45ea-a132-1e1ef7e43d73",
   "metadata": {},
   "outputs": [
    {
     "data": {
      "text/plain": [
       "name              0\n",
       "year              0\n",
       "selling_price     0\n",
       "km_driven        12\n",
       "fuel             14\n",
       "seller_type      14\n",
       "transmission     14\n",
       "owner            14\n",
       "dtype: int64"
      ]
     },
     "execution_count": 149,
     "metadata": {},
     "output_type": "execute_result"
    }
   ],
   "source": [
    "df_rusak.isna().sum()"
   ]
  },
  {
   "cell_type": "code",
   "execution_count": 150,
   "id": "07c70458-06a7-45af-92d0-08399cdbd481",
   "metadata": {},
   "outputs": [],
   "source": [
    "df_rusak[\"km_driven\"] = df_rusak[\"km_driven\"].fillna(df_rusak[\"km_driven\"].median()) # Menggunakan strategi median"
   ]
  },
  {
   "cell_type": "code",
   "execution_count": 151,
   "id": "1e7ac69c-c71d-40c7-8534-29007a49054c",
   "metadata": {},
   "outputs": [
    {
     "data": {
      "text/plain": [
       "name              0\n",
       "year              0\n",
       "selling_price     0\n",
       "km_driven         0\n",
       "fuel             14\n",
       "seller_type      14\n",
       "transmission     14\n",
       "owner            14\n",
       "dtype: int64"
      ]
     },
     "execution_count": 151,
     "metadata": {},
     "output_type": "execute_result"
    }
   ],
   "source": [
    "df_rusak.isna().sum()"
   ]
  },
  {
   "cell_type": "code",
   "execution_count": 152,
   "id": "1e1df74f-22aa-4fe5-a7bd-199987fc27f4",
   "metadata": {},
   "outputs": [],
   "source": [
    "df_rusak[\"fuel\"] = cleanNull.fit_transform(df_rusak[[\"fuel\"]])"
   ]
  },
  {
   "cell_type": "code",
   "execution_count": 153,
   "id": "2b1e1f4f-f565-4aa3-bfaa-703f359a9504",
   "metadata": {},
   "outputs": [
    {
     "data": {
      "text/plain": [
       "name              0\n",
       "year              0\n",
       "selling_price     0\n",
       "km_driven         0\n",
       "fuel              0\n",
       "seller_type      14\n",
       "transmission     14\n",
       "owner            14\n",
       "dtype: int64"
      ]
     },
     "execution_count": 153,
     "metadata": {},
     "output_type": "execute_result"
    }
   ],
   "source": [
    "df_rusak.isna().sum()"
   ]
  },
  {
   "cell_type": "code",
   "execution_count": 154,
   "id": "2c9aedf4-cbfc-4db0-87c3-886e4bea1372",
   "metadata": {},
   "outputs": [],
   "source": [
    "df_rusak[\"seller_type\"] = cleanNull.fit_transform(df_rusak[[\"seller_type\"]])"
   ]
  },
  {
   "cell_type": "code",
   "execution_count": 155,
   "id": "f2d6f8a6-6382-4d94-bffe-13181d984e24",
   "metadata": {},
   "outputs": [
    {
     "data": {
      "text/plain": [
       "name              0\n",
       "year              0\n",
       "selling_price     0\n",
       "km_driven         0\n",
       "fuel              0\n",
       "seller_type       0\n",
       "transmission     14\n",
       "owner            14\n",
       "dtype: int64"
      ]
     },
     "execution_count": 155,
     "metadata": {},
     "output_type": "execute_result"
    }
   ],
   "source": [
    "df_rusak.isna().sum()"
   ]
  },
  {
   "cell_type": "code",
   "execution_count": 156,
   "id": "1fecae21-a15d-49ba-9fe1-08fa113ee157",
   "metadata": {},
   "outputs": [],
   "source": [
    "df_rusak[\"transmission\"]=cleanNull.fit_transform(df_rusak[[\"transmission\"]])"
   ]
  },
  {
   "cell_type": "code",
   "execution_count": 157,
   "id": "f8b8cf0b-639c-4b0a-82fa-0bcd151cbc9a",
   "metadata": {},
   "outputs": [
    {
     "data": {
      "text/plain": [
       "name              0\n",
       "year              0\n",
       "selling_price     0\n",
       "km_driven         0\n",
       "fuel              0\n",
       "seller_type       0\n",
       "transmission      0\n",
       "owner            14\n",
       "dtype: int64"
      ]
     },
     "execution_count": 157,
     "metadata": {},
     "output_type": "execute_result"
    }
   ],
   "source": [
    "df_rusak.isna().sum()"
   ]
  },
  {
   "cell_type": "code",
   "execution_count": 158,
   "id": "d7418d66-9111-40e2-a3d7-d993efa8b10a",
   "metadata": {},
   "outputs": [],
   "source": [
    "df_rusak[\"owner\"]=cleanNull.fit_transform(df_rusak[[\"owner\"]])"
   ]
  },
  {
   "cell_type": "code",
   "execution_count": 159,
   "id": "657516e4-4c99-4225-9eaa-7ba76add7ae1",
   "metadata": {},
   "outputs": [
    {
     "data": {
      "text/plain": [
       "name             0\n",
       "year             0\n",
       "selling_price    0\n",
       "km_driven        0\n",
       "fuel             0\n",
       "seller_type      0\n",
       "transmission     0\n",
       "owner            0\n",
       "dtype: int64"
      ]
     },
     "execution_count": 159,
     "metadata": {},
     "output_type": "execute_result"
    }
   ],
   "source": [
    "\n",
    "df_rusak.isna().sum()"
   ]
  },
  {
   "cell_type": "markdown",
   "id": "df6142ca-e0ca-4470-aca7-838112275d71",
   "metadata": {},
   "source": [
    "### Menangani Nilai Duplikat dari Dataset"
   ]
  },
  {
   "cell_type": "code",
   "execution_count": 160,
   "id": "1dc1c339-51a5-43fc-a463-0496ffc92245",
   "metadata": {},
   "outputs": [
    {
     "name": "stdout",
     "output_type": "stream",
     "text": [
      "Jumlah duplikat adalah 752\n"
     ]
    }
   ],
   "source": [
    "print(f\"Jumlah duplikat adalah {df_rusak.duplicated().sum()}\") "
   ]
  },
  {
   "cell_type": "code",
   "execution_count": 174,
   "id": "f544511f-0495-4087-88d7-70868e8348ff",
   "metadata": {},
   "outputs": [
    {
     "name": "stdout",
     "output_type": "stream",
     "text": [
      "Jumlah data duplikat sekarang adalah 0\n"
     ]
    }
   ],
   "source": [
    "df_rusak.drop_duplicates(inplace=True) # Menggunakan fungsi drop_duplicates untuk menangani nilai duplikat\n",
    "print(f\"Jumlah data duplikat sekarang adalah {df_rusak.duplicated().sum()}\") "
   ]
  },
  {
   "cell_type": "markdown",
   "id": "da8fe265-d425-4431-8f69-f2b01218d1e7",
   "metadata": {},
   "source": [
    "### Menganti type data salah satu atribut angka"
   ]
  },
  {
   "cell_type": "code",
   "execution_count": 162,
   "id": "409fba3a-b62b-4c86-9c68-9a6419f8889b",
   "metadata": {},
   "outputs": [
    {
     "data": {
      "text/plain": [
       "dtype('int64')"
      ]
     },
     "execution_count": 162,
     "metadata": {},
     "output_type": "execute_result"
    }
   ],
   "source": [
    "df_rusak[\"year\"].dtypes # Mengecek tipe data sebelum"
   ]
  },
  {
   "cell_type": "code",
   "execution_count": 163,
   "id": "3cf8e903-de1a-42df-9711-4df4e291e54e",
   "metadata": {},
   "outputs": [],
   "source": [
    "df_rusak[['year']] = df_rusak[['year']].astype(\"object\") # Fungsi astype digunakan untuk merubah type data"
   ]
  },
  {
   "cell_type": "code",
   "execution_count": 164,
   "id": "415b3ab8-5b19-4419-8222-ae225eedbfda",
   "metadata": {},
   "outputs": [
    {
     "data": {
      "text/plain": [
       "dtype('O')"
      ]
     },
     "execution_count": 164,
     "metadata": {},
     "output_type": "execute_result"
    }
   ],
   "source": [
    "df_rusak[\"year\"].dtypes # Mengecek tipe data sesudah"
   ]
  },
  {
   "cell_type": "markdown",
   "id": "5d3d18b5-dbaf-4769-a59c-709a262c970b",
   "metadata": {},
   "source": [
    "### One Hot Encoding"
   ]
  },
  {
   "cell_type": "code",
   "execution_count": 165,
   "id": "e79d8090-6d32-44b1-bdb0-5285aa992835",
   "metadata": {},
   "outputs": [],
   "source": [
    "from sklearn.preprocessing import OneHotEncoder # import library Scikit Learn untuk menggunakan fungsi OneHotEncoder"
   ]
  },
  {
   "cell_type": "code",
   "execution_count": 166,
   "id": "8d06fe99-530e-4ebd-a3a7-0774996e240a",
   "metadata": {},
   "outputs": [],
   "source": [
    "onehotEncoding = OneHotEncoder(sparse=False)"
   ]
  },
  {
   "cell_type": "code",
   "execution_count": 167,
   "id": "a6258e6e-1a60-46f7-80e3-99f7834850df",
   "metadata": {},
   "outputs": [],
   "source": [
    "encoding = onehotEncoding.fit_transform(df_rusak[[\"fuel\"]]) # Melakukan one hot encoding ke atribut fuel"
   ]
  },
  {
   "cell_type": "code",
   "execution_count": 168,
   "id": "6a80e013-6db2-42a4-a2a5-783bc63067eb",
   "metadata": {},
   "outputs": [],
   "source": [
    "fuel = df_rusak.dropna(subset=['fuel']).sort_values(by=['fuel'])['fuel'].unique() # Mengambil data kategori dari atribut fuel"
   ]
  },
  {
   "cell_type": "code",
   "execution_count": 169,
   "id": "215d6a06-a524-4366-8746-e32b386a0fae",
   "metadata": {},
   "outputs": [],
   "source": [
    "df_encoding= pd.DataFrame(encoding, columns=fuel)"
   ]
  },
  {
   "cell_type": "code",
   "execution_count": 170,
   "id": "812352f9-c1f6-4fa2-bced-fd2836cfc6e3",
   "metadata": {},
   "outputs": [
    {
     "data": {
      "text/html": [
       "<div>\n",
       "<style scoped>\n",
       "    .dataframe tbody tr th:only-of-type {\n",
       "        vertical-align: middle;\n",
       "    }\n",
       "\n",
       "    .dataframe tbody tr th {\n",
       "        vertical-align: top;\n",
       "    }\n",
       "\n",
       "    .dataframe thead th {\n",
       "        text-align: right;\n",
       "    }\n",
       "</style>\n",
       "<table border=\"1\" class=\"dataframe\">\n",
       "  <thead>\n",
       "    <tr style=\"text-align: right;\">\n",
       "      <th></th>\n",
       "      <th>CNG</th>\n",
       "      <th>Diesel</th>\n",
       "      <th>Electric</th>\n",
       "      <th>LPG</th>\n",
       "      <th>Petrol</th>\n",
       "    </tr>\n",
       "  </thead>\n",
       "  <tbody>\n",
       "    <tr>\n",
       "      <th>0</th>\n",
       "      <td>0.0</td>\n",
       "      <td>0.0</td>\n",
       "      <td>0.0</td>\n",
       "      <td>0.0</td>\n",
       "      <td>1.0</td>\n",
       "    </tr>\n",
       "    <tr>\n",
       "      <th>1</th>\n",
       "      <td>0.0</td>\n",
       "      <td>0.0</td>\n",
       "      <td>0.0</td>\n",
       "      <td>0.0</td>\n",
       "      <td>1.0</td>\n",
       "    </tr>\n",
       "    <tr>\n",
       "      <th>2</th>\n",
       "      <td>0.0</td>\n",
       "      <td>1.0</td>\n",
       "      <td>0.0</td>\n",
       "      <td>0.0</td>\n",
       "      <td>0.0</td>\n",
       "    </tr>\n",
       "    <tr>\n",
       "      <th>3</th>\n",
       "      <td>0.0</td>\n",
       "      <td>0.0</td>\n",
       "      <td>0.0</td>\n",
       "      <td>0.0</td>\n",
       "      <td>1.0</td>\n",
       "    </tr>\n",
       "    <tr>\n",
       "      <th>4</th>\n",
       "      <td>0.0</td>\n",
       "      <td>1.0</td>\n",
       "      <td>0.0</td>\n",
       "      <td>0.0</td>\n",
       "      <td>0.0</td>\n",
       "    </tr>\n",
       "  </tbody>\n",
       "</table>\n",
       "</div>"
      ],
      "text/plain": [
       "   CNG  Diesel  Electric  LPG  Petrol\n",
       "0  0.0     0.0       0.0  0.0     1.0\n",
       "1  0.0     0.0       0.0  0.0     1.0\n",
       "2  0.0     1.0       0.0  0.0     0.0\n",
       "3  0.0     0.0       0.0  0.0     1.0\n",
       "4  0.0     1.0       0.0  0.0     0.0"
      ]
     },
     "execution_count": 170,
     "metadata": {},
     "output_type": "execute_result"
    }
   ],
   "source": [
    "df_encoding.head()"
   ]
  },
  {
   "cell_type": "code",
   "execution_count": 171,
   "id": "7a70d657-0988-4ac7-83a1-4d1b1a801618",
   "metadata": {},
   "outputs": [],
   "source": [
    "df_rusak = df_rusak.join(df_encoding) # Menggabungkan dataset dengan dataencoding dari atribut fuel"
   ]
  },
  {
   "cell_type": "code",
   "execution_count": 172,
   "id": "774ea4aa-ae8b-4760-991b-0d6b4e433bb6",
   "metadata": {},
   "outputs": [
    {
     "data": {
      "text/html": [
       "<div>\n",
       "<style scoped>\n",
       "    .dataframe tbody tr th:only-of-type {\n",
       "        vertical-align: middle;\n",
       "    }\n",
       "\n",
       "    .dataframe tbody tr th {\n",
       "        vertical-align: top;\n",
       "    }\n",
       "\n",
       "    .dataframe thead th {\n",
       "        text-align: right;\n",
       "    }\n",
       "</style>\n",
       "<table border=\"1\" class=\"dataframe\">\n",
       "  <thead>\n",
       "    <tr style=\"text-align: right;\">\n",
       "      <th></th>\n",
       "      <th>name</th>\n",
       "      <th>year</th>\n",
       "      <th>selling_price</th>\n",
       "      <th>km_driven</th>\n",
       "      <th>fuel</th>\n",
       "      <th>seller_type</th>\n",
       "      <th>transmission</th>\n",
       "      <th>owner</th>\n",
       "      <th>CNG</th>\n",
       "      <th>Diesel</th>\n",
       "      <th>Electric</th>\n",
       "      <th>LPG</th>\n",
       "      <th>Petrol</th>\n",
       "    </tr>\n",
       "  </thead>\n",
       "  <tbody>\n",
       "    <tr>\n",
       "      <th>0</th>\n",
       "      <td>Maruti 800 AC</td>\n",
       "      <td>2007</td>\n",
       "      <td>60000.0</td>\n",
       "      <td>70000.0</td>\n",
       "      <td>Petrol</td>\n",
       "      <td>Individual</td>\n",
       "      <td>Manual</td>\n",
       "      <td>First Owner</td>\n",
       "      <td>0.0</td>\n",
       "      <td>0.0</td>\n",
       "      <td>0.0</td>\n",
       "      <td>0.0</td>\n",
       "      <td>1.0</td>\n",
       "    </tr>\n",
       "    <tr>\n",
       "      <th>1</th>\n",
       "      <td>Maruti Wagon R LXI Minor</td>\n",
       "      <td>2007</td>\n",
       "      <td>135000.0</td>\n",
       "      <td>50000.0</td>\n",
       "      <td>Petrol</td>\n",
       "      <td>Individual</td>\n",
       "      <td>Manual</td>\n",
       "      <td>First Owner</td>\n",
       "      <td>0.0</td>\n",
       "      <td>0.0</td>\n",
       "      <td>0.0</td>\n",
       "      <td>0.0</td>\n",
       "      <td>1.0</td>\n",
       "    </tr>\n",
       "    <tr>\n",
       "      <th>2</th>\n",
       "      <td>Hyundai Verna 1.6 SX</td>\n",
       "      <td>2012</td>\n",
       "      <td>600000.0</td>\n",
       "      <td>100000.0</td>\n",
       "      <td>Diesel</td>\n",
       "      <td>Individual</td>\n",
       "      <td>Manual</td>\n",
       "      <td>First Owner</td>\n",
       "      <td>0.0</td>\n",
       "      <td>1.0</td>\n",
       "      <td>0.0</td>\n",
       "      <td>0.0</td>\n",
       "      <td>0.0</td>\n",
       "    </tr>\n",
       "    <tr>\n",
       "      <th>3</th>\n",
       "      <td>Datsun RediGO T Option</td>\n",
       "      <td>2017</td>\n",
       "      <td>250000.0</td>\n",
       "      <td>46000.0</td>\n",
       "      <td>Petrol</td>\n",
       "      <td>Individual</td>\n",
       "      <td>Manual</td>\n",
       "      <td>First Owner</td>\n",
       "      <td>0.0</td>\n",
       "      <td>0.0</td>\n",
       "      <td>0.0</td>\n",
       "      <td>0.0</td>\n",
       "      <td>1.0</td>\n",
       "    </tr>\n",
       "    <tr>\n",
       "      <th>4</th>\n",
       "      <td>Honda Amaze VX i-DTEC</td>\n",
       "      <td>2014</td>\n",
       "      <td>450000.0</td>\n",
       "      <td>141000.0</td>\n",
       "      <td>Diesel</td>\n",
       "      <td>Individual</td>\n",
       "      <td>Manual</td>\n",
       "      <td>Second Owner</td>\n",
       "      <td>0.0</td>\n",
       "      <td>1.0</td>\n",
       "      <td>0.0</td>\n",
       "      <td>0.0</td>\n",
       "      <td>0.0</td>\n",
       "    </tr>\n",
       "  </tbody>\n",
       "</table>\n",
       "</div>"
      ],
      "text/plain": [
       "                       name  year  selling_price  km_driven    fuel  \\\n",
       "0             Maruti 800 AC  2007        60000.0    70000.0  Petrol   \n",
       "1  Maruti Wagon R LXI Minor  2007       135000.0    50000.0  Petrol   \n",
       "2      Hyundai Verna 1.6 SX  2012       600000.0   100000.0  Diesel   \n",
       "3    Datsun RediGO T Option  2017       250000.0    46000.0  Petrol   \n",
       "4     Honda Amaze VX i-DTEC  2014       450000.0   141000.0  Diesel   \n",
       "\n",
       "  seller_type transmission         owner  CNG  Diesel  Electric  LPG  Petrol  \n",
       "0  Individual       Manual   First Owner  0.0     0.0       0.0  0.0     1.0  \n",
       "1  Individual       Manual   First Owner  0.0     0.0       0.0  0.0     1.0  \n",
       "2  Individual       Manual   First Owner  0.0     1.0       0.0  0.0     0.0  \n",
       "3  Individual       Manual   First Owner  0.0     0.0       0.0  0.0     1.0  \n",
       "4  Individual       Manual  Second Owner  0.0     1.0       0.0  0.0     0.0  "
      ]
     },
     "execution_count": 172,
     "metadata": {},
     "output_type": "execute_result"
    }
   ],
   "source": [
    "df_rusak.head()"
   ]
  }
 ],
 "metadata": {
  "kernelspec": {
   "display_name": "Python 3 (ipykernel)",
   "language": "python",
   "name": "python3"
  },
  "language_info": {
   "codemirror_mode": {
    "name": "ipython",
    "version": 3
   },
   "file_extension": ".py",
   "mimetype": "text/x-python",
   "name": "python",
   "nbconvert_exporter": "python",
   "pygments_lexer": "ipython3",
   "version": "3.10.7"
  }
 },
 "nbformat": 4,
 "nbformat_minor": 5
}
