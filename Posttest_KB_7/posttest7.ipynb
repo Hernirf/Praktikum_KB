{
 "cells": [
  {
   "cell_type": "markdown",
   "metadata": {},
   "source": [
    "# POSTTEST 6 PENGENALAN TENSORFLOW\n",
    "\n",
    "Nama : Herni Suhartati <br>\n",
    "NIM : 2109106001 <br>\n",
    "Kelas : A1 Informatika 2021 <br>"
   ]
  },
  {
   "cell_type": "code",
   "execution_count": 2,
   "metadata": {},
   "outputs": [],
   "source": [
    "import tensorflow as tf\n",
    "from prettytable import PrettyTable"
   ]
  },
  {
   "cell_type": "markdown",
   "metadata": {},
   "source": [
    "Buatlah sebuah tensor dengan shape(5,5) dengan nilai random yang disimpan dalam variable random_tensor."
   ]
  },
  {
   "cell_type": "code",
   "execution_count": 26,
   "metadata": {},
   "outputs": [
    {
     "data": {
      "text/plain": [
       "<tf.Tensor: shape=(5, 5), dtype=int32, numpy=\n",
       "array([[93, 27, 22, 70, 38],\n",
       "       [66, 54, 77, 76, 19],\n",
       "       [44,  1, 11, 57, 50],\n",
       "       [17, 56, 31, 93, 99],\n",
       "       [28, 26, 87,  7, 72]])>"
      ]
     },
     "execution_count": 26,
     "metadata": {},
     "output_type": "execute_result"
    }
   ],
   "source": [
    "random_tensor=tf.random.uniform(shape=(5,5), minval=1, maxval=100, dtype=tf.int32 )\n",
    "random_tensor"
   ]
  },
  {
   "cell_type": "markdown",
   "metadata": {},
   "source": [
    "Buatlah sebuah tensor dengan shape(5,5) dari sebuah list dengan nilai bilangan prima dalam variable prime_tensor."
   ]
  },
  {
   "cell_type": "code",
   "execution_count": 27,
   "metadata": {},
   "outputs": [
    {
     "data": {
      "text/plain": [
       "<tf.Tensor: shape=(5, 5), dtype=int32, numpy=\n",
       "array([[ 2,  5,  7, 11, 17],\n",
       "       [ 3, 13, 19, 29, 23],\n",
       "       [31, 41, 37, 43, 47],\n",
       "       [ 2,  5,  7, 41, 43],\n",
       "       [17, 11,  7, 23, 37]])>"
      ]
     },
     "execution_count": 27,
     "metadata": {},
     "output_type": "execute_result"
    }
   ],
   "source": [
    "prime_tensor=tf.convert_to_tensor([[2,5,7,11,17],[3,13,19,29,23],[31,41,37,43,47],[2,5,7,41,43],[17,11,7,23,37]])\n",
    "prime_tensor"
   ]
  },
  {
   "cell_type": "markdown",
   "metadata": {},
   "source": [
    "Tampilkan dimensi dari kedua variable tersebut."
   ]
  },
  {
   "cell_type": "code",
   "execution_count": 28,
   "metadata": {},
   "outputs": [
    {
     "name": "stdout",
     "output_type": "stream",
     "text": [
      "+---------------+---------+\n",
      "|      Nama     | Dimensi |\n",
      "+---------------+---------+\n",
      "| random_tensor |  (5, 5) |\n",
      "|  prime_tensor |  (5, 5) |\n",
      "+---------------+---------+\n"
     ]
    }
   ],
   "source": [
    "table=PrettyTable(['Nama', 'Dimensi'])\n",
    "table.add_row(['random_tensor', random_tensor.shape])\n",
    "table.add_row(['prime_tensor', prime_tensor.shape])\n",
    "print(table)"
   ]
  },
  {
   "cell_type": "markdown",
   "metadata": {},
   "source": [
    "Tampilkan hasil dari perhitungan aritmetika 2 variable tersebut (Gunakan minimal 5 operator)."
   ]
  },
  {
   "cell_type": "code",
   "execution_count": 29,
   "metadata": {},
   "outputs": [
    {
     "name": "stdout",
     "output_type": "stream",
     "text": [
      "+------------+---------------------------------------------------------------------------------------------+\n",
      "| Aritmatika |                                            Hasil                                            |\n",
      "+------------+---------------------------------------------------------------------------------------------+\n",
      "|   Tambah   |                                          tf.Tensor(                                         |\n",
      "|            |                                    [[ 95  32  29  81  55]                                   |\n",
      "|            |                                     [ 69  67  96 105  42]                                   |\n",
      "|            |                                     [ 75  42  48 100  97]                                   |\n",
      "|            |                                     [ 19  61  38 134 142]                                   |\n",
      "|            |                      [ 45  37  94  30 109]], shape=(5, 5), dtype=int32)                     |\n",
      "|            |                                                                                             |\n",
      "|   Kurang   |                                          tf.Tensor(                                         |\n",
      "|            |                                    [[ 91  22  15  59  21]                                   |\n",
      "|            |                                     [ 63  41  58  47  -4]                                   |\n",
      "|            |                                     [ 13 -40 -26  14   3]                                   |\n",
      "|            |                                     [ 15  51  24  52  56]                                   |\n",
      "|            |                      [ 11  15  80 -16  35]], shape=(5, 5), dtype=int32)                     |\n",
      "|            |                                                                                             |\n",
      "| Perkalian  |                                          tf.Tensor(                                         |\n",
      "|            |                                 [[ 186  135  154  770  646]                                 |\n",
      "|            |                                  [ 198  702 1463 2204  437]                                 |\n",
      "|            |                                  [1364   41  407 2451 2350]                                 |\n",
      "|            |                                  [  34  280  217 3813 4257]                                 |\n",
      "|            |                    [ 476  286  609  161 2664]], shape=(5, 5), dtype=int32)                  |\n",
      "|            |                                                                                             |\n",
      "| Pembagian  |                                          tf.Tensor(                                         |\n",
      "|            |                [[4.65000000e+01 5.40000000e+00 3.14285714e+00 6.36363636e+00                |\n",
      "|            |                                        2.23529412e+00]                                      |\n",
      "|            |                 [2.20000000e+01 4.15384615e+00 4.05263158e+00 2.62068966e+00                |\n",
      "|            |                                        8.26086957e-01]                                      |\n",
      "|            |                 [1.41935484e+00 2.43902439e-02 2.97297297e-01 1.32558140e+00                |\n",
      "|            |                                        1.06382979e+00]                                      |\n",
      "|            |                 [8.50000000e+00 1.12000000e+01 4.42857143e+00 2.26829268e+00                |\n",
      "|            |                                        2.30232558e+00]                                      |\n",
      "|            |                 [1.64705882e+00 2.36363636e+00 1.24285714e+01 3.04347826e-01                |\n",
      "|            |                         1.94594595e+00]], shape=(5, 5), dtype=float64)                      |\n",
      "|            |                                                                                             |\n",
      "|  Pangkat   |                                          tf.Tensor(                                         |\n",
      "|            |                [[       8649    14348907 -1800609408 -1417488384   631635968]               |\n",
      "|            |                 [     287496   -16687104   616227989           0 -1254284485]               |\n",
      "|            |                 [          0           1  1301662107  1690527017           0]               |\n",
      "|            |                 [        289   550731776  1742810335   903009021 -1515445093]               |\n",
      "|            |  [          0 -1420187648 -1513240281   821077879           0]], shape=(5, 5), dtype=int32) |\n",
      "|            |                                                                                             |\n",
      "+------------+---------------------------------------------------------------------------------------------+\n"
     ]
    }
   ],
   "source": [
    "aritmatika=PrettyTable(['Aritmatika', 'Hasil'])\n",
    "aritmatika.add_row(['Tambah', tf.add(random_tensor,prime_tensor)])\n",
    "aritmatika.add_row(['',''])\n",
    "aritmatika.add_row(['Kurang', tf.subtract(random_tensor,prime_tensor)])\n",
    "aritmatika.add_row(['',''])\n",
    "aritmatika.add_row(['Perkalian', tf.multiply(random_tensor,prime_tensor)])\n",
    "aritmatika.add_row(['',''])\n",
    "aritmatika.add_row(['Pembagian', tf.divide(random_tensor,prime_tensor)])\n",
    "aritmatika.add_row(['',''])\n",
    "aritmatika.add_row(['Pangkat', tf.pow(random_tensor,prime_tensor)])\n",
    "aritmatika.add_row(['',''])\n",
    "\n",
    "# aritmatika.add_row(['Tambah', tf.math.log(random_tensor,prime_tensor)])\n",
    "print(aritmatika)\n",
    "\n"
   ]
  },
  {
   "cell_type": "markdown",
   "metadata": {},
   "source": [
    "Tampilkan nilai maksimum dan minimum dari variable random_tensor."
   ]
  },
  {
   "cell_type": "code",
   "execution_count": 30,
   "metadata": {},
   "outputs": [
    {
     "name": "stdout",
     "output_type": "stream",
     "text": [
      "+----------+-------------------------------------------------+------------------------------+\n",
      "|  Nilai   |                   Setiap Index                  | Nilai Variabel Random_tensor |\n",
      "+----------+-------------------------------------------------+------------------------------+\n",
      "| Minimum  | tf.Tensor([3 2 2 4 1], shape=(5,), dtype=int64) |              1               |\n",
      "| Maksimum | tf.Tensor([0 3 4 3 3], shape=(5,), dtype=int64) |              99              |\n",
      "+----------+-------------------------------------------------+------------------------------+\n"
     ]
    }
   ],
   "source": [
    "import numpy as np\n",
    "\n",
    "\n",
    "max_row=tf.argmax(random_tensor,axis=0)\n",
    "min_row=tf.argmin(random_tensor,axis=0)\n",
    "minim=np.min(random_tensor)\n",
    "maxim=np.max(random_tensor)\n",
    "tabel_min_max=PrettyTable(['Nilai', 'Setiap Index', 'Nilai Variabel Random_tensor'])\n",
    "tabel_min_max.add_row(['Minimum', min_row,minim])\n",
    "tabel_min_max.add_row(['Maksimum', max_row,maxim])\n",
    "print(tabel_min_max)\n",
    "\n",
    "\n"
   ]
  },
  {
   "cell_type": "markdown",
   "metadata": {},
   "source": [
    "Tampilkan hasil dari penggabungan variable random_tensor dengan prime_tensor (concatenation)"
   ]
  },
  {
   "cell_type": "code",
   "execution_count": 32,
   "metadata": {},
   "outputs": [
    {
     "data": {
      "text/plain": [
       "<tf.Tensor: shape=(5, 10), dtype=int32, numpy=\n",
       "array([[93, 27, 22, 70, 38,  2,  5,  7, 11, 17],\n",
       "       [66, 54, 77, 76, 19,  3, 13, 19, 29, 23],\n",
       "       [44,  1, 11, 57, 50, 31, 41, 37, 43, 47],\n",
       "       [17, 56, 31, 93, 99,  2,  5,  7, 41, 43],\n",
       "       [28, 26, 87,  7, 72, 17, 11,  7, 23, 37]])>"
      ]
     },
     "execution_count": 32,
     "metadata": {},
     "output_type": "execute_result"
    }
   ],
   "source": [
    "Concat=tf.concat([random_tensor,prime_tensor], axis=1)\n",
    "Concat"
   ]
  },
  {
   "cell_type": "markdown",
   "metadata": {},
   "source": [
    "Tampilkan hasil sorting dari kedua variable di atas (descending)"
   ]
  },
  {
   "cell_type": "code",
   "execution_count": 33,
   "metadata": {},
   "outputs": [
    {
     "data": {
      "text/plain": [
       "<tf.Tensor: shape=(5, 5), dtype=int32, numpy=\n",
       "array([[93, 70, 38, 27, 22],\n",
       "       [77, 76, 66, 54, 19],\n",
       "       [57, 50, 44, 11,  1],\n",
       "       [99, 93, 56, 31, 17],\n",
       "       [87, 72, 28, 26,  7]])>"
      ]
     },
     "execution_count": 33,
     "metadata": {},
     "output_type": "execute_result"
    }
   ],
   "source": [
    "random_desc=tf.sort(random_tensor,direction='DESCENDING')\n",
    "\n",
    "random_desc"
   ]
  },
  {
   "cell_type": "code",
   "execution_count": 34,
   "metadata": {},
   "outputs": [
    {
     "data": {
      "text/plain": [
       "<tf.Tensor: shape=(5, 5), dtype=int32, numpy=\n",
       "array([[17, 11,  7,  5,  2],\n",
       "       [29, 23, 19, 13,  3],\n",
       "       [47, 43, 41, 37, 31],\n",
       "       [43, 41,  7,  5,  2],\n",
       "       [37, 23, 17, 11,  7]])>"
      ]
     },
     "execution_count": 34,
     "metadata": {},
     "output_type": "execute_result"
    }
   ],
   "source": [
    "prime_desc=tf.sort(prime_tensor,direction='DESCENDING')\n",
    "prime_desc"
   ]
  }
 ],
 "metadata": {
  "kernelspec": {
   "display_name": "Python 3.10.7 64-bit",
   "language": "python",
   "name": "python3"
  },
  "language_info": {
   "codemirror_mode": {
    "name": "ipython",
    "version": 3
   },
   "file_extension": ".py",
   "mimetype": "text/x-python",
   "name": "python",
   "nbconvert_exporter": "python",
   "pygments_lexer": "ipython3",
   "version": "3.10.7"
  },
  "orig_nbformat": 4,
  "vscode": {
   "interpreter": {
    "hash": "f2ccb58c476f33ba3e3aee7ac07234ef6b8217ef24ad64d2a7d4fed1a57c1cd2"
   }
  }
 },
 "nbformat": 4,
 "nbformat_minor": 2
}
