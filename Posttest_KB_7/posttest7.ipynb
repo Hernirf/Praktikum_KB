{
 "cells": [
  {
   "cell_type": "markdown",
   "metadata": {},
   "source": [
    "# POSTTEST 6 PENGENALAN TENSORFLOW\n",
    "\n",
    "Nama : Herni Suhartati <br>\n",
    "NIM : 2109106001 <br>\n",
    "Kelas : A1 Informatika 2021 <br>"
   ]
  },
  {
   "cell_type": "code",
   "execution_count": 2,
   "metadata": {},
   "outputs": [],
   "source": [
    "import tensorflow as tf\n",
    "from prettytable import PrettyTable"
   ]
  },
  {
   "cell_type": "markdown",
   "metadata": {},
   "source": [
    "Buatlah sebuah tensor dengan shape(5,5) dengan nilai random yang disimpan dalam variable random_tensor."
   ]
  },
  {
   "cell_type": "code",
   "execution_count": 3,
   "metadata": {},
   "outputs": [
    {
     "data": {
      "text/plain": [
       "<tf.Tensor: shape=(5, 5), dtype=int32, numpy=\n",
       "array([[62, 89, 79,  9, 90],\n",
       "       [91, 54, 43, 76, 68],\n",
       "       [27, 59, 64, 78, 73],\n",
       "       [25, 46, 42, 17, 21],\n",
       "       [50,  1, 16, 38,  3]])>"
      ]
     },
     "execution_count": 3,
     "metadata": {},
     "output_type": "execute_result"
    }
   ],
   "source": [
    "random_tensor=tf.random.uniform(shape=(5,5), minval=1, maxval=100, dtype=tf.int32 )\n",
    "random_tensor"
   ]
  },
  {
   "cell_type": "markdown",
   "metadata": {},
   "source": [
    "Buatlah sebuah tensor dengan shape(5,5) dari sebuah list dengan nilai bilangan prima dalam variable prime_tensor."
   ]
  },
  {
   "cell_type": "code",
   "execution_count": 4,
   "metadata": {},
   "outputs": [],
   "source": [
    "prime_tensor=tf.convert_to_tensor([[2,5,7,11,17],[3,13,19,29,23],[31,41,37,43,47],[2,5,7,41,43],[17,11,7,23,37]])"
   ]
  },
  {
   "cell_type": "markdown",
   "metadata": {},
   "source": [
    "Tampilkan dimensi dari kedua variable tersebut."
   ]
  },
  {
   "cell_type": "code",
   "execution_count": 5,
   "metadata": {},
   "outputs": [
    {
     "name": "stdout",
     "output_type": "stream",
     "text": [
      "+---------------+---------+\n",
      "|      Nama     | Dimensi |\n",
      "+---------------+---------+\n",
      "| random_tensor |  (5, 5) |\n",
      "|  prime_tensor |  (5, 5) |\n",
      "+---------------+---------+\n"
     ]
    }
   ],
   "source": [
    "table=PrettyTable(['Nama', 'Dimensi'])\n",
    "table.add_row(['random_tensor', random_tensor.shape])\n",
    "table.add_row(['prime_tensor', prime_tensor.shape])\n",
    "print(table)"
   ]
  },
  {
   "cell_type": "markdown",
   "metadata": {},
   "source": [
    "Tampilkan hasil dari perhitungan aritmetika 2 variable tersebut (Gunakan minimal 5 operator)."
   ]
  },
  {
   "cell_type": "code",
   "execution_count": 16,
   "metadata": {},
   "outputs": [
    {
     "name": "stdout",
     "output_type": "stream",
     "text": [
      "[[64 94 86 20 107]\n",
      " [94 67 62 105 91]\n",
      " [58 100 101 121 120]\n",
      " [27 51 49 58 64]\n",
      " [67 12 23 61 40]]\n",
      "+------------+-----------------------------------------------------------------------------------------------+\n",
      "| Aritmatika |                                             Hasil                                             |\n",
      "+------------+-----------------------------------------------------------------------------------------------+\n",
      "|   Tambah   |                                              None                                             |\n",
      "|            |                                                                                               |\n",
      "|   Kurang   |                                           tf.Tensor(                                          |\n",
      "|            |                                     [[ 60  84  72  -2  73]                                    |\n",
      "|            |                                      [ 88  41  24  47  45]                                    |\n",
      "|            |                                      [ -4  18  27  35  26]                                    |\n",
      "|            |                                      [ 23  41  35 -24 -22]                                    |\n",
      "|            |                       [ 33 -10   9  15 -34]], shape=(5, 5), dtype=int32)                      |\n",
      "|            |                                                                                               |\n",
      "| Perkalian  |                                           tf.Tensor(                                          |\n",
      "|            |                                  [[ 124  445  553   99 1530]                                  |\n",
      "|            |                                   [ 273  702  817 2204 1564]                                  |\n",
      "|            |                                   [ 837 2419 2368 3354 3431]                                  |\n",
      "|            |                                   [  50  230  294  697  903]                                  |\n",
      "|            |                     [ 850   11  112  874  111]], shape=(5, 5), dtype=int32)                   |\n",
      "|            |                                                                                               |\n",
      "| Pembagian  |                                           tf.Tensor(                                          |\n",
      "|            |                 [[31.         17.8        11.28571429  0.81818182  5.29411765]                |\n",
      "|            |                  [30.33333333  4.15384615  2.26315789  2.62068966  2.95652174]                |\n",
      "|            |                  [ 0.87096774  1.43902439  1.72972973  1.81395349  1.55319149]                |\n",
      "|            |                  [12.5         9.2         6.          0.41463415  0.48837209]                |\n",
      "|            |  [ 2.94117647  0.09090909  2.28571429  1.65217391  0.08108108]], shape=(5, 5), dtype=float64) |\n",
      "|            |                                                                                               |\n",
      "|  Pangkat   |                                           tf.Tensor(                                          |\n",
      "|            |                 [[       3844  1289092153  1110205743  1316288537    47841280]                |\n",
      "|            |                  [     753571   -16687104 -1036426029           0           0]                |\n",
      "|            |                  [ 1582498963  -648079525           0           0  -759538311]                |\n",
      "|            |                  [        625   205962976 -1388900736  -946637167  1743538317]                |\n",
      "|            |   [ -953024512           1   268435456 -1652555776 -1565174669]], shape=(5, 5), dtype=int32)  |\n",
      "|            |                                                                                               |\n",
      "+------------+-----------------------------------------------------------------------------------------------+\n"
     ]
    }
   ],
   "source": [
    "aritmatika=PrettyTable(['Aritmatika', 'Hasil'])\n",
    "aritmatika.add_row(['Tambah', tf.add(random_tensor,prime_tensor)])\n",
    "aritmatika.add_row(['',''])\n",
    "aritmatika.add_row(['Kurang', tf.subtract(random_tensor,prime_tensor)])\n",
    "aritmatika.add_row(['',''])\n",
    "aritmatika.add_row(['Perkalian', tf.multiply(random_tensor,prime_tensor)])\n",
    "aritmatika.add_row(['',''])\n",
    "aritmatika.add_row(['Pembagian', tf.divide(random_tensor,prime_tensor)])\n",
    "aritmatika.add_row(['',''])\n",
    "aritmatika.add_row(['Pangkat', tf.pow(random_tensor,prime_tensor)])\n",
    "aritmatika.add_row(['',''])\n",
    "\n",
    "# aritmatika.add_row(['Tambah', tf.math.log(random_tensor,prime_tensor)])\n",
    "print(aritmatika)\n",
    "\n"
   ]
  },
  {
   "cell_type": "markdown",
   "metadata": {},
   "source": [
    "Tampilkan nilai maksimum dan minimum dari variable random_tensor."
   ]
  },
  {
   "cell_type": "code",
   "execution_count": 13,
   "metadata": {},
   "outputs": [
    {
     "name": "stdout",
     "output_type": "stream",
     "text": [
      "[1 0 0 2 0]\n"
     ]
    }
   ],
   "source": [
    "max_row=tf.argmax(random_tensor,axis=0)\n",
    "tf.print(max_row)\n"
   ]
  },
  {
   "cell_type": "code",
   "execution_count": 25,
   "metadata": {},
   "outputs": [
    {
     "data": {
      "text/plain": [
       "<tf.Tensor: shape=(5, 5), dtype=int32, numpy=\n",
       "array([[ 2,  5,  7,  9, 17],\n",
       "       [ 3, 13, 19, 29, 23],\n",
       "       [27, 41, 37, 43, 47],\n",
       "       [ 2,  5,  7, 17, 21],\n",
       "       [17,  1,  7, 23,  3]])>"
      ]
     },
     "execution_count": 25,
     "metadata": {},
     "output_type": "execute_result"
    }
   ],
   "source": [
    "from random import random\n",
    "\n",
    "\n",
    "min_row=tf.argmin(random_tensor,axis=0)\n",
    "min_row\n",
    "\n",
    "tf.minimum(random_tensor, prime_tensor)"
   ]
  },
  {
   "cell_type": "markdown",
   "metadata": {},
   "source": [
    "Tampilkan hasil dari penggabungan variable random_tensor dengan prime_tensor (concatenation)"
   ]
  },
  {
   "cell_type": "code",
   "execution_count": 20,
   "metadata": {},
   "outputs": [
    {
     "data": {
      "text/plain": [
       "<tf.Tensor: shape=(5, 5), dtype=int32, numpy=\n",
       "array([[62, 89, 79,  9, 90],\n",
       "       [91, 54, 43, 76, 68],\n",
       "       [27, 59, 64, 78, 73],\n",
       "       [25, 46, 42, 17, 21],\n",
       "       [50,  1, 16, 38,  3]])>"
      ]
     },
     "execution_count": 20,
     "metadata": {},
     "output_type": "execute_result"
    }
   ],
   "source": [
    "random_tensor"
   ]
  },
  {
   "cell_type": "code",
   "execution_count": 9,
   "metadata": {},
   "outputs": [
    {
     "data": {
      "text/plain": [
       "<tf.Tensor: shape=(5, 10), dtype=int32, numpy=\n",
       "array([[62, 89, 79,  9, 90,  2,  5,  7, 11, 17],\n",
       "       [91, 54, 43, 76, 68,  3, 13, 19, 29, 23],\n",
       "       [27, 59, 64, 78, 73, 31, 41, 37, 43, 47],\n",
       "       [25, 46, 42, 17, 21,  2,  5,  7, 41, 43],\n",
       "       [50,  1, 16, 38,  3, 17, 11,  7, 23, 37]])>"
      ]
     },
     "execution_count": 9,
     "metadata": {},
     "output_type": "execute_result"
    }
   ],
   "source": [
    "Concat=tf.concat([random_tensor,prime_tensor], axis=1)\n",
    "Concat"
   ]
  },
  {
   "cell_type": "markdown",
   "metadata": {},
   "source": [
    "Tampilkan hasil sorting dari kedua variable di atas (descending)"
   ]
  },
  {
   "cell_type": "code",
   "execution_count": 10,
   "metadata": {},
   "outputs": [
    {
     "data": {
      "text/plain": [
       "<tf.Tensor: shape=(5, 5), dtype=int32, numpy=\n",
       "array([[90, 89, 79, 62,  9],\n",
       "       [91, 76, 68, 54, 43],\n",
       "       [78, 73, 64, 59, 27],\n",
       "       [46, 42, 25, 21, 17],\n",
       "       [50, 38, 16,  3,  1]])>"
      ]
     },
     "execution_count": 10,
     "metadata": {},
     "output_type": "execute_result"
    }
   ],
   "source": [
    "random_desc=tf.sort(random_tensor,direction='DESCENDING')\n",
    "\n",
    "random_desc"
   ]
  },
  {
   "cell_type": "code",
   "execution_count": 11,
   "metadata": {},
   "outputs": [
    {
     "data": {
      "text/plain": [
       "<tf.Tensor: shape=(5, 5), dtype=int32, numpy=\n",
       "array([[17, 11,  7,  5,  2],\n",
       "       [29, 23, 19, 13,  3],\n",
       "       [47, 43, 41, 37, 31],\n",
       "       [43, 41,  7,  5,  2],\n",
       "       [37, 23, 17, 11,  7]])>"
      ]
     },
     "execution_count": 11,
     "metadata": {},
     "output_type": "execute_result"
    }
   ],
   "source": [
    "prime_desc=tf.sort(prime_tensor,direction='DESCENDING')\n",
    "prime_desc"
   ]
  },
  {
   "cell_type": "code",
   "execution_count": null,
   "metadata": {},
   "outputs": [],
   "source": []
  }
 ],
 "metadata": {
  "kernelspec": {
   "display_name": "Python 3.10.7 64-bit",
   "language": "python",
   "name": "python3"
  },
  "language_info": {
   "codemirror_mode": {
    "name": "ipython",
    "version": 3
   },
   "file_extension": ".py",
   "mimetype": "text/x-python",
   "name": "python",
   "nbconvert_exporter": "python",
   "pygments_lexer": "ipython3",
   "version": "3.10.7"
  },
  "orig_nbformat": 4,
  "vscode": {
   "interpreter": {
    "hash": "f2ccb58c476f33ba3e3aee7ac07234ef6b8217ef24ad64d2a7d4fed1a57c1cd2"
   }
  }
 },
 "nbformat": 4,
 "nbformat_minor": 2
}
